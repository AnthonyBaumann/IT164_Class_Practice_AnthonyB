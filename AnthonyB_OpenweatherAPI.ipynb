{
  "nbformat": 4,
  "nbformat_minor": 0,
  "metadata": {
    "colab": {
      "name": "AnthonyB_OpenweatherAPI.ipynb",
      "provenance": [],
      "authorship_tag": "ABX9TyNpp03B9NJ+nZtbMh8Nf3qH",
      "include_colab_link": true
    },
    "kernelspec": {
      "name": "python3",
      "display_name": "Python 3"
    },
    "language_info": {
      "name": "python"
    }
  },
  "cells": [
    {
      "cell_type": "markdown",
      "metadata": {
        "id": "view-in-github",
        "colab_type": "text"
      },
      "source": [
        "<a href=\"https://colab.research.google.com/github/AnthonyBaumann/IT164_Class_Practice_AnthonyB/blob/main/AnthonyB_OpenweatherAPI.ipynb\" target=\"_parent\"><img src=\"https://colab.research.google.com/assets/colab-badge.svg\" alt=\"Open In Colab\"/></a>"
      ]
    },
    {
      "cell_type": "code",
      "execution_count": 3,
      "metadata": {
        "colab": {
          "base_uri": "https://localhost:8080/"
        },
        "id": "nNmbez3ecjrt",
        "outputId": "dc84ca41-3c18-40a6-b9fa-8aadeeccb56c"
      },
      "outputs": [
        {
          "output_type": "stream",
          "name": "stdout",
          "text": [
            "Looking in indexes: https://pypi.org/simple, https://us-python.pkg.dev/colab-wheels/public/simple/\n",
            "Collecting pyowm\n",
            "  Downloading pyowm-3.3.0-py3-none-any.whl (4.5 MB)\n",
            "\u001b[K     |████████████████████████████████| 4.5 MB 13.7 MB/s \n",
            "\u001b[?25hRequirement already satisfied: PySocks<2,>=1.7.1 in /usr/local/lib/python3.7/dist-packages (from pyowm) (1.7.1)\n",
            "Requirement already satisfied: requests[socks] in /usr/local/lib/python3.7/dist-packages (from pyowm) (2.23.0)\n",
            "Collecting geojson<3,>=2.3.0\n",
            "  Downloading geojson-2.5.0-py2.py3-none-any.whl (14 kB)\n",
            "Requirement already satisfied: urllib3!=1.25.0,!=1.25.1,<1.26,>=1.21.1 in /usr/local/lib/python3.7/dist-packages (from requests[socks]->pyowm) (1.24.3)\n",
            "Requirement already satisfied: certifi>=2017.4.17 in /usr/local/lib/python3.7/dist-packages (from requests[socks]->pyowm) (2022.6.15)\n",
            "Requirement already satisfied: chardet<4,>=3.0.2 in /usr/local/lib/python3.7/dist-packages (from requests[socks]->pyowm) (3.0.4)\n",
            "Requirement already satisfied: idna<3,>=2.5 in /usr/local/lib/python3.7/dist-packages (from requests[socks]->pyowm) (2.10)\n",
            "Installing collected packages: geojson, pyowm\n",
            "Successfully installed geojson-2.5.0 pyowm-3.3.0\n"
          ]
        }
      ],
      "source": [
        "!pip install pyowm"
      ]
    },
    {
      "cell_type": "code",
      "source": [
        "from pyowm.owm import OWM\n",
        "#I am defining a variable in this line below. the name of the variable is: myKey\n",
        "myKey='349f22cecb0b0bfc70ba2d0922caa1e7'\n",
        "#we create an instance of the API connection with our key (myKey)\n",
        "#we place it in a variable, Named anything but be constistant\n",
        "owm= OWM(myKey)\n",
        "#^variable\n",
        "wmg=owm.weather_manager()"
      ],
      "metadata": {
        "id": "fRTC9joIe19f"
      },
      "execution_count": 5,
      "outputs": []
    },
    {
      "cell_type": "code",
      "source": [
        "city=input('What city would you like to teleport to?:')\n",
        "country=input('What country is the city in?:')\n",
        "citycountry=city+','+country\n",
        "\n",
        "observation=wmg.weather_at_place(citycountry)\n",
        "weather=observation.weather\n",
        "\n",
        "temperature=weather.temperature('fahrenheit')\n",
        "print(temperature)\n",
        "\n",
        "feellike=temperature.get('feels_like')\n",
        "print(feellike)\n",
        "\n",
        "if feellike < 30:\n",
        "    print ('You need a winter jacket if you want to go on a walk in', citycountry)\n",
        "elif feellike <50:\n",
        "    print('You need a light jacket if you want to go on a walk in', citycountry)\n",
        "elif feellike <70:\n",
        "    print('You may want to dress in layers if you want to go on a walk in', citycountry)\n",
        "else:\n",
        "    print('You can wear a summer outfit if you want to go on a walk in', citycountry)"
      ],
      "metadata": {
        "colab": {
          "base_uri": "https://localhost:8080/"
        },
        "id": "XAqxs77egaL7",
        "outputId": "0c1659a2-0f15-40b2-babc-de76700dce3d"
      },
      "execution_count": 7,
      "outputs": [
        {
          "output_type": "stream",
          "name": "stdout",
          "text": [
            "What city would you like to teleport to?:Tokyo\n",
            "What country is the city in?:Japan\n",
            "{'temp': 78.51, 'temp_max': 81.63, 'temp_min': 75.78, 'feels_like': 79.86, 'temp_kf': None}\n",
            "79.86\n",
            "You can wear a summer outfit if you want to go on a walk in Tokyo,Japan\n"
          ]
        }
      ]
    }
  ]
}