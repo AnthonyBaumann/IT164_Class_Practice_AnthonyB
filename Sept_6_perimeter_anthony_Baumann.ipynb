{
  "nbformat": 4,
  "nbformat_minor": 0,
  "metadata": {
    "colab": {
      "provenance": [],
      "authorship_tag": "ABX9TyP4f1+PhPJqTHkABv0yt8n2",
      "include_colab_link": true
    },
    "kernelspec": {
      "name": "python3",
      "display_name": "Python 3"
    },
    "language_info": {
      "name": "python"
    }
  },
  "cells": [
    {
      "cell_type": "markdown",
      "metadata": {
        "id": "view-in-github",
        "colab_type": "text"
      },
      "source": [
        "<a href=\"https://colab.research.google.com/github/AnthonyBaumann/IT164_Class_Practice_AnthonyB/blob/main/Sept_6_perimeter_anthony_Baumann.ipynb\" target=\"_parent\"><img src=\"https://colab.research.google.com/assets/colab-badge.svg\" alt=\"Open In Colab\"/></a>"
      ]
    },
    {
      "cell_type": "code",
      "execution_count": 7,
      "metadata": {
        "colab": {
          "base_uri": "https://localhost:8080/"
        },
        "id": "xQ3CIlYHiFnk",
        "outputId": "cc973b23-f0a8-4c14-9ba7-8a1cead76516"
      },
      "outputs": [
        {
          "output_type": "stream",
          "name": "stdout",
          "text": [
            "Provide te radius of a circle:2\n",
            "The perimeter of a circle with radius 2.000 is 12.566 and the area of a cirlce with radius 2.000 is 12.566.\n"
          ]
        }
      ],
      "source": [
        "radius= float(input('Provide te radius of a circle:'))\n",
        "import math\n",
        "\n",
        "perimeter = 2* radius * math.pi \n",
        "area= math.pi* radius**2\n",
        "\n",
        "print('The perimeter of a circle with radius {:.3f} is {:.3f} and the area of a cirlce with radius {:.3f} is {:.3f}.'.format(radius,perimeter,radius,area))\n",
        "\n"
      ]
    },
    {
      "cell_type": "code",
      "source": [
        "height = float(input(\"What is the height of your rectangle?:\"))\n",
        "width = float(input(\"What is the width of your rectangle?:\"))\n",
        "\n",
        "import math\n",
        "\n",
        "perimeter = 2*(width+height)\n",
        "\n",
        "area = width * height\n",
        "\n",
        "print(\"The perimeter of a rectangle with a width of\" ,width, \"and a height of\" , height ,\"is\", perimeter, \"and the area is\",area, )"
      ],
      "metadata": {
        "colab": {
          "base_uri": "https://localhost:8080/"
        },
        "id": "UNZrXUj8lObi",
        "outputId": "87b3a3d3-a458-42f9-b5ea-0af5cc8e1cdf"
      },
      "execution_count": 10,
      "outputs": [
        {
          "output_type": "stream",
          "name": "stdout",
          "text": [
            "What is the height of your rectangle?:2\n",
            "What is the width of your rectangle?:4\n",
            "The perimeter of a rectangle with a width of 4.0 and a height of 2.0 is 12.0 and  the area is 8.0\n"
          ]
        }
      ]
    },
    {
      "cell_type": "code",
      "source": [
        "weight=float(input(\"Enter your weight in lbs:\"))\n",
        "height= float(input(\"Enter your height in inches:\"))\n",
        "\n",
        "bmi= (weight/height**2)*703\n",
        "\n",
        "print(\"Your BMI with a weight of {:.1f} and a height of {:.1f} is {:.1f} \\n\".format(weight,height,bmi))"
      ],
      "metadata": {
        "colab": {
          "base_uri": "https://localhost:8080/"
        },
        "id": "_TM7oevOmuI6",
        "outputId": "881a0115-71d3-4108-b5fd-630c7c17f68d"
      },
      "execution_count": 15,
      "outputs": [
        {
          "output_type": "stream",
          "name": "stdout",
          "text": [
            "Enter your weight in lbs:200\n",
            "Enter your height in inches:63\n",
            "Your BMI with a weight of 200.0 and a height of 63.0 is 35.4 \n",
            "\n"
          ]
        }
      ]
    }
  ]
}